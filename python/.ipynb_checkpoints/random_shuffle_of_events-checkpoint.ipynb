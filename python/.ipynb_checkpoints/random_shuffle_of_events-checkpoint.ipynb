{
 "cells": [
  {
   "cell_type": "code",
   "execution_count": 1,
   "id": "b26daac1-4603-41b3-b53e-e0510adc4025",
   "metadata": {},
   "outputs": [],
   "source": [
    "import numpy as np\n",
    "from matplotlib import pyplot as plt"
   ]
  },
  {
   "cell_type": "markdown",
   "id": "8be9e783-48c2-4f7c-8960-4e7956311776",
   "metadata": {},
   "source": [
    "## Test two different ways of generating random shuffle of sequence of events.\n",
    "```\n",
    "RandEngine rand(1);\n",
    "    int M = 5;\n",
    "    for (int r = 0; r < 25; ++r) {\n",
    "        std::vector<int> events;\n",
    "        std::vector<int> num_events;\n",
    "        int total_events = 0;\n",
    "        for (int i = 0; i < M; ++i) {\n",
    "            int n = 5;\n",
    "            num_events.push_back(n);\n",
    "            total_events += n;\n",
    "            for (int j = 0; j < n; ++j) {\n",
    "                events.push_back(i);\n",
    "            }\n",
    "        }\n",
    "        int id1;\n",
    "        int id2;\n",
    "        for (size_t i = events.size(); i > 0; --i) {\n",
    "            unsigned int e = rand.mt19937.operator()() % i;\n",
    "            id1 = events[e];\n",
    "            events[e] = events[i - 1];\n",
    "            if (i == 1) {\n",
    "                std::cout << id1;\n",
    "            }\n",
    "            else {\n",
    "                std::cout << id1 << \",\";\n",
    "            }\n",
    "        }\n",
    "        std::cout << std::endl;\n",
    "        for (int i = total_events; i > 0; --i) {\n",
    "            unsigned int e = rand.mt19937.operator()() % i;\n",
    "            int ne = 0;\n",
    "            for (int j = 0; j < M; ++j) {\n",
    "                ne += num_events[j];\n",
    "                if (e < ne) {\n",
    "                    id2 = j;\n",
    "                    if (num_events[j] > 0) {\n",
    "                        num_events[j] -= 1;\n",
    "                    }\n",
    "                    break;\n",
    "                }\n",
    "            }\n",
    "            if (i == 1) {\n",
    "                std::cout << id2;\n",
    "            }\n",
    "            else{\n",
    "                std::cout << id2 << \",\";\n",
    "            }\n",
    "        }\n",
    "        std::cout << std::endl;\n",
    "    }\n",
    "```"
   ]
  },
  {
   "cell_type": "markdown",
   "id": "abd9154a-fb25-4fe5-bd34-b2af31b46291",
   "metadata": {},
   "source": [
    "The purpose is to be fast and use smaller memory, and avoid using large vector when selecting next reaction event. "
   ]
  },
  {
   "cell_type": "code",
   "execution_count": 21,
   "id": "8284f67a-31c3-4a75-9540-288eef92b708",
   "metadata": {},
   "outputs": [],
   "source": [
    "a = np.loadtxt(\"./untitled.txt\", delimiter=\",\")"
   ]
  },
  {
   "cell_type": "code",
   "execution_count": 22,
   "id": "46fa6e27-4608-45a8-97f6-b1ac96de5dfa",
   "metadata": {},
   "outputs": [
    {
     "data": {
      "text/plain": [
       "((25, 25), (25, 25))"
      ]
     },
     "execution_count": 22,
     "metadata": {},
     "output_type": "execute_result"
    }
   ],
   "source": [
    "a1 = a[:25, :]\n",
    "a2 = a[25:, :]\n",
    "a1.shape, a2.shape"
   ]
  },
  {
   "cell_type": "code",
   "execution_count": 23,
   "id": "34f90b2a-4f47-4c27-a122-83ef696b97c8",
   "metadata": {},
   "outputs": [
    {
     "data": {
      "text/plain": [
       "<matplotlib.image.AxesImage at 0x7f3755832760>"
      ]
     },
     "execution_count": 23,
     "metadata": {},
     "output_type": "execute_result"
    },
    {
     "data": {
      "image/png": "[encoded data removed]",
      "text/plain": [
       "<Figure size 432x288 with 1 Axes>"
      ]
     },
     "metadata": {
      "needs_background": "light"
     },
     "output_type": "display_data"
    }
   ],
   "source": [
    "plt.imshow(a1)"
   ]
  },
  {
   "cell_type": "code",
   "execution_count": 24,
   "id": "211c3ce1-4c94-497e-a24f-620c1e69531f",
   "metadata": {},
   "outputs": [
    {
     "data": {
      "text/plain": [
       "<matplotlib.image.AxesImage at 0x7f37554000d0>"
      ]
     },
     "execution_count": 24,
     "metadata": {},
     "output_type": "execute_result"
    },
    {
     "data": {
      "image/png": "[encoded data removed]",
      "text/plain": [
       "<Figure size 432x288 with 1 Axes>"
      ]
     },
     "metadata": {
      "needs_background": "light"
     },
     "output_type": "display_data"
    }
   ],
   "source": [
    "plt.imshow(a2)"
   ]
  },
  {
   "cell_type": "code",
   "execution_count": null,
   "id": "5082df6c-263e-465d-9214-950368e2a04a",
   "metadata": {},
   "outputs": [],
   "source": []
  }
 ],
 "metadata": {
  "kernelspec": {
   "display_name": "Python 3 (ipykernel)",
   "language": "python",
   "name": "python3"
  },
  "language_info": {
   "codemirror_mode": {
    "name": "ipython",
    "version": 3
   },
   "file_extension": ".py",
   "mimetype": "text/x-python",
   "name": "python",
   "nbconvert_exporter": "python",
   "pygments_lexer": "ipython3",
   "version": "3.9.12"
  }
 },
 "nbformat": 4,
 "nbformat_minor": 5
}
